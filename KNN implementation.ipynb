{
  "cells": [
    {
      "metadata": {
        "trusted": true
      },
      "cell_type": "code",
      "source": "# IMORTING LIBRARIES\nimport pandas as pd\nimport numpy as np\nimport math\nimport operator",
      "execution_count": 1,
      "outputs": []
    },
    {
      "metadata": {
        "trusted": true
      },
      "cell_type": "code",
      "source": "# IMPORTING DATA\ndf=pd.read_csv(\"iris.csv\")\ndf.head()",
      "execution_count": 2,
      "outputs": [
        {
          "output_type": "execute_result",
          "execution_count": 2,
          "data": {
            "text/html": "<div>\n<style scoped>\n    .dataframe tbody tr th:only-of-type {\n        vertical-align: middle;\n    }\n\n    .dataframe tbody tr th {\n        vertical-align: top;\n    }\n\n    .dataframe thead th {\n        text-align: right;\n    }\n</style>\n<table border=\"1\" class=\"dataframe\">\n  <thead>\n    <tr style=\"text-align: right;\">\n      <th></th>\n      <th>SepalLength</th>\n      <th>SepalWidth</th>\n      <th>PetalLength</th>\n      <th>PetalWidth</th>\n      <th>Name</th>\n    </tr>\n  </thead>\n  <tbody>\n    <tr>\n      <th>0</th>\n      <td>5.1</td>\n      <td>3.5</td>\n      <td>1.4</td>\n      <td>0.2</td>\n      <td>Iris-setosa</td>\n    </tr>\n    <tr>\n      <th>1</th>\n      <td>4.9</td>\n      <td>3.0</td>\n      <td>1.4</td>\n      <td>0.2</td>\n      <td>Iris-setosa</td>\n    </tr>\n    <tr>\n      <th>2</th>\n      <td>4.7</td>\n      <td>3.2</td>\n      <td>1.3</td>\n      <td>0.2</td>\n      <td>Iris-setosa</td>\n    </tr>\n    <tr>\n      <th>3</th>\n      <td>4.6</td>\n      <td>3.1</td>\n      <td>1.5</td>\n      <td>0.2</td>\n      <td>Iris-setosa</td>\n    </tr>\n    <tr>\n      <th>4</th>\n      <td>5.0</td>\n      <td>3.6</td>\n      <td>1.4</td>\n      <td>0.2</td>\n      <td>Iris-setosa</td>\n    </tr>\n  </tbody>\n</table>\n</div>",
            "text/plain": "   SepalLength  SepalWidth  PetalLength  PetalWidth         Name\n0          5.1         3.5          1.4         0.2  Iris-setosa\n1          4.9         3.0          1.4         0.2  Iris-setosa\n2          4.7         3.2          1.3         0.2  Iris-setosa\n3          4.6         3.1          1.5         0.2  Iris-setosa\n4          5.0         3.6          1.4         0.2  Iris-setosa"
          },
          "metadata": {}
        }
      ]
    },
    {
      "metadata": {
        "trusted": true
      },
      "cell_type": "code",
      "source": "# DEFINING A FUNCTION WHICH CALCULATES EUCLIDEAN DISTANCE\ndef euclideanDistance( df1 ,df2,length):\n    distance=0\n    for x in range(length):\n        distance +=np.square(df1[x] - df2[x])\n    return np.sqrt(distance)",
      "execution_count": 4,
      "outputs": []
    },
    {
      "metadata": {
        "trusted": true
      },
      "cell_type": "code",
      "source": "# Defining a function which calculates euclidean distance between two data points\ndef euclideanDistance(df1, df2, length):\n    distance = 0\n    for x in range(length):\n        distance += np.square(df1[x] - df2[x])\n    return np.sqrt(distance)\n\n# Defining our KNN model\ndef knn(trainingSet, testInstance, k):\n \n    distances = {}\n    sort = {}\n \n    length = testInstance.shape[1]\n    # Calculating euclidean distance between each row of training data and test data\n    for x in range(len(trainingSet)):\n        dist = euclideanDistance(testInstance, trainingSet.iloc[x], length)\n        distances[x] = dist[0]\n    # Sorting them on the basis of distance\n    sorted_d = sorted(distances.items(), key=operator.itemgetter(1))\n \n    neighbors = []\n    # Extracting top k neighbors\n    for x in range(k):\n        neighbors.append(sorted_d[x][0])\n    classVotes = {}\n    # Calculating the most freq class in the neighbors\n    for x in range(len(neighbors)):\n        response = trainingSet.iloc[neighbors[x]][-1]\n \n        if response in classVotes:\n            classVotes[response] += 1\n        else:\n            classVotes[response] = 1\n    sortedVotes = sorted(classVotes.items(), key=operator.itemgetter(1), reverse=True)\n    return(sortedVotes[0][0], neighbors)\n\n\n\n\n",
      "execution_count": 5,
      "outputs": []
    },
    {
      "metadata": {
        "trusted": true
      },
      "cell_type": "code",
      "source": "# creating dummy test\ntestSet=[[7.2 ,3.6,5.1,2.5]]\ntest=pd.DataFrame(testSet)",
      "execution_count": 6,
      "outputs": []
    },
    {
      "metadata": {
        "trusted": true
      },
      "cell_type": "code",
      "source": "# Setting number of neighbors = 1\nk=1\nresult,neigh = knn(df, test, k)\nprint(result)\nprint(neigh)",
      "execution_count": 7,
      "outputs": [
        {
          "output_type": "stream",
          "text": "Iris-virginica\n[141]\n",
          "name": "stdout"
        }
      ]
    },
    {
      "metadata": {
        "trusted": true
      },
      "cell_type": "code",
      "source": "# Setting number of neighbors = 3 \nk=3\nresult,neigh =knn(df,test,k)\nprint(result)\nprint(neigh)",
      "execution_count": 8,
      "outputs": [
        {
          "output_type": "stream",
          "text": "Iris-virginica\n[141, 139, 120]\n",
          "name": "stdout"
        }
      ]
    },
    {
      "metadata": {
        "trusted": true
      },
      "cell_type": "code",
      "source": "# setting numer of neighbors =5\nk=5\nresult,neigh=knn(df,test,k)\nprint(result)\nprint(neigh)",
      "execution_count": 9,
      "outputs": [
        {
          "output_type": "stream",
          "text": "Iris-virginica\n[141, 139, 120, 145, 144]\n",
          "name": "stdout"
        }
      ]
    },
    {
      "metadata": {
        "trusted": true
      },
      "cell_type": "code",
      "source": "# COMPARING OUR MODEL WITH SCIKIT-LEARN\nfrom sklearn.neighbors import KNeighborsClassifier\nneigh = KNeighborsClassifier(n_neighbors=3)\nneigh.fit(df.iloc[:,0:4], df['Name'])\n\n# Predicted class\nprint(neigh.predict(test))\n\n# 3 nearest neighbors\nprint(neigh.kneighbors(test)[1])\n",
      "execution_count": 10,
      "outputs": [
        {
          "output_type": "stream",
          "text": "['Iris-virginica']\n[[141 139 120]]\n",
          "name": "stdout"
        }
      ]
    }
  ],
  "metadata": {
    "kernelspec": {
      "name": "python36",
      "display_name": "Python 3.6",
      "language": "python"
    },
    "language_info": {
      "mimetype": "text/x-python",
      "nbconvert_exporter": "python",
      "name": "python",
      "pygments_lexer": "ipython3",
      "version": "3.6.6",
      "file_extension": ".py",
      "codemirror_mode": {
        "version": 3,
        "name": "ipython"
      }
    }
  },
  "nbformat": 4,
  "nbformat_minor": 2
}